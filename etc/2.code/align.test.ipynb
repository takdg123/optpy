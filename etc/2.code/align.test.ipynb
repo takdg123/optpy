{
 "cells": [
  {
   "cell_type": "code",
   "execution_count": 1,
   "metadata": {},
   "outputs": [],
   "source": [
    "import glob, os\n",
    "from astropy.io import ascii\n",
    "from astropy.io import fits\n",
    "import matplotlib.pyplot as plt\n",
    "import numpy as np\n",
    "from astropy.table import Table, vstack\n",
    "import matplotlib as mpl\n",
    "from astropy import units as u\n",
    "import time"
   ]
  },
  {
   "cell_type": "code",
   "execution_count": 2,
   "metadata": {},
   "outputs": [],
   "source": [
    "import matplotlib as mpl\n",
    "from IPython.core.interactiveshell import InteractiveShell\n",
    "InteractiveShell.ast_node_interactivity = \"last_expr\"\n",
    "\n",
    "mpl.rcParams[\"axes.titlesize\"] = 14\n",
    "mpl.rcParams[\"axes.labelsize\"] = 20\n",
    "plt.rcParams['savefig.dpi'] = 200\n",
    "plt.rc('font', family='serif')"
   ]
  },
  {
   "cell_type": "code",
   "execution_count": 3,
   "metadata": {},
   "outputs": [],
   "source": [
    "source, target = fits.getdata('../boao/221022/Calib-BOAO-GRB221009A-20221022-092004-Ks-60.sub.fits'), fits.getdata('../boao/221022/Calib-BOAO-GRB221009A-20221022-092122-Ks-60.sub.fits')"
   ]
  },
  {
   "cell_type": "code",
   "execution_count": 4,
   "metadata": {},
   "outputs": [],
   "source": [
    "target = target.newbyteorder()\n",
    "source = source.newbyteorder()"
   ]
  },
  {
   "cell_type": "code",
   "execution_count": 5,
   "metadata": {},
   "outputs": [
    {
     "name": "stderr",
     "output_type": "stream",
     "text": [
      "/Users/paek/opt/miniconda3/envs/kn/lib/python3.10/site-packages/astroalign.py:512: RuntimeWarning: invalid value encountered in subtract\n",
      "  sources = sep.extract(image - bkg.back(), thresh, minarea=min_area)\n"
     ]
    },
    {
     "ename": "IndexError",
     "evalue": "index 3 is out of bounds for axis 0 with size 3",
     "output_type": "error",
     "traceback": [
      "\u001b[0;31m---------------------------------------------------------------------------\u001b[0m",
      "\u001b[0;31mIndexError\u001b[0m                                Traceback (most recent call last)",
      "Cell \u001b[0;32mIn [5], line 2\u001b[0m\n\u001b[1;32m      1\u001b[0m \u001b[39mimport\u001b[39;00m \u001b[39mastroalign\u001b[39;00m \u001b[39mas\u001b[39;00m \u001b[39maa\u001b[39;00m\n\u001b[0;32m----> 2\u001b[0m registered_image, footprint \u001b[39m=\u001b[39m aa\u001b[39m.\u001b[39mregister(source, target, max_control_points\u001b[39m=\u001b[39m\u001b[39m3\u001b[39m, detection_sigma\u001b[39m=\u001b[39m\u001b[39m1\u001b[39m)\n",
      "File \u001b[0;32m~/opt/miniconda3/envs/kn/lib/python3.10/site-packages/astroalign.py:488\u001b[0m, in \u001b[0;36mregister\u001b[0;34m(source, target, fill_value, propagate_mask, max_control_points, detection_sigma, min_area)\u001b[0m\n\u001b[1;32m    454\u001b[0m \u001b[39mdef\u001b[39;00m \u001b[39mregister\u001b[39m(\n\u001b[1;32m    455\u001b[0m     source,\n\u001b[1;32m    456\u001b[0m     target,\n\u001b[0;32m   (...)\u001b[0m\n\u001b[1;32m    461\u001b[0m     min_area\u001b[39m=\u001b[39m\u001b[39m5\u001b[39m,\n\u001b[1;32m    462\u001b[0m ):\n\u001b[1;32m    463\u001b[0m     \u001b[39m\"\"\"Transform ``source`` to coincide pixel to pixel with ``target``.\u001b[39;00m\n\u001b[1;32m    464\u001b[0m \n\u001b[1;32m    465\u001b[0m \u001b[39m    Args:\u001b[39;00m\n\u001b[0;32m   (...)\u001b[0m\n\u001b[1;32m    486\u001b[0m \n\u001b[1;32m    487\u001b[0m \u001b[39m    \"\"\"\u001b[39;00m\n\u001b[0;32m--> 488\u001b[0m     t, __ \u001b[39m=\u001b[39m find_transform(\n\u001b[1;32m    489\u001b[0m         source\u001b[39m=\u001b[39;49msource,\n\u001b[1;32m    490\u001b[0m         target\u001b[39m=\u001b[39;49mtarget,\n\u001b[1;32m    491\u001b[0m         max_control_points\u001b[39m=\u001b[39;49mmax_control_points,\n\u001b[1;32m    492\u001b[0m         detection_sigma\u001b[39m=\u001b[39;49mdetection_sigma,\n\u001b[1;32m    493\u001b[0m         min_area\u001b[39m=\u001b[39;49mmin_area,\n\u001b[1;32m    494\u001b[0m     )\n\u001b[1;32m    495\u001b[0m     aligned_image, footprint \u001b[39m=\u001b[39m apply_transform(\n\u001b[1;32m    496\u001b[0m         t, source, target, fill_value, propagate_mask\n\u001b[1;32m    497\u001b[0m     )\n\u001b[1;32m    498\u001b[0m     \u001b[39mreturn\u001b[39;00m aligned_image, footprint\n",
      "File \u001b[0;32m~/opt/miniconda3/envs/kn/lib/python3.10/site-packages/astroalign.py:324\u001b[0m, in \u001b[0;36mfind_transform\u001b[0;34m(source, target, max_control_points, detection_sigma, min_area)\u001b[0m\n\u001b[1;32m    318\u001b[0m \u001b[39mif\u001b[39;00m \u001b[39mlen\u001b[39m(target_controlp) \u001b[39m<\u001b[39m \u001b[39m3\u001b[39m:\n\u001b[1;32m    319\u001b[0m     \u001b[39mraise\u001b[39;00m \u001b[39mValueError\u001b[39;00m(\n\u001b[1;32m    320\u001b[0m         \u001b[39m\"\u001b[39m\u001b[39mReference stars in target image are less than the \u001b[39m\u001b[39m\"\u001b[39m\n\u001b[1;32m    321\u001b[0m         \u001b[39m\"\u001b[39m\u001b[39mminimum value (3).\u001b[39m\u001b[39m\"\u001b[39m\n\u001b[1;32m    322\u001b[0m     )\n\u001b[0;32m--> 324\u001b[0m source_invariants, source_asterisms \u001b[39m=\u001b[39m _generate_invariants(source_controlp)\n\u001b[1;32m    325\u001b[0m source_invariant_tree \u001b[39m=\u001b[39m KDTree(source_invariants)\n\u001b[1;32m    327\u001b[0m target_invariants, target_asterisms \u001b[39m=\u001b[39m _generate_invariants(target_controlp)\n",
      "File \u001b[0;32m~/opt/miniconda3/envs/kn/lib/python3.10/site-packages/astroalign.py:173\u001b[0m, in \u001b[0;36m_generate_invariants\u001b[0;34m(sources)\u001b[0m\n\u001b[1;32m    169\u001b[0m __, indx \u001b[39m=\u001b[39m coordtree\u001b[39m.\u001b[39mquery(asrc, knn)\n\u001b[1;32m    171\u001b[0m \u001b[39m# Generate all possible triangles with the 5 indx provided, and store\u001b[39;00m\n\u001b[1;32m    172\u001b[0m \u001b[39m# them with the order (a, b, c) defined in _arrangetriplet\u001b[39;00m\n\u001b[0;32m--> 173\u001b[0m all_asterism_triang \u001b[39m=\u001b[39m [\n\u001b[1;32m    174\u001b[0m     arrange(vertex_indices\u001b[39m=\u001b[39m\u001b[39mlist\u001b[39m(cmb)) \u001b[39mfor\u001b[39;00m cmb \u001b[39min\u001b[39;00m combinations(indx, \u001b[39m3\u001b[39m)\n\u001b[1;32m    175\u001b[0m ]\n\u001b[1;32m    176\u001b[0m triang_vrtx\u001b[39m.\u001b[39mextend(all_asterism_triang)\n\u001b[1;32m    178\u001b[0m inv\u001b[39m.\u001b[39mextend(\n\u001b[1;32m    179\u001b[0m     [\n\u001b[1;32m    180\u001b[0m         _invariantfeatures(\u001b[39m*\u001b[39msources[triplet])\n\u001b[1;32m    181\u001b[0m         \u001b[39mfor\u001b[39;00m triplet \u001b[39min\u001b[39;00m all_asterism_triang\n\u001b[1;32m    182\u001b[0m     ]\n\u001b[1;32m    183\u001b[0m )\n",
      "File \u001b[0;32m~/opt/miniconda3/envs/kn/lib/python3.10/site-packages/astroalign.py:174\u001b[0m, in \u001b[0;36m<listcomp>\u001b[0;34m(.0)\u001b[0m\n\u001b[1;32m    169\u001b[0m __, indx \u001b[39m=\u001b[39m coordtree\u001b[39m.\u001b[39mquery(asrc, knn)\n\u001b[1;32m    171\u001b[0m \u001b[39m# Generate all possible triangles with the 5 indx provided, and store\u001b[39;00m\n\u001b[1;32m    172\u001b[0m \u001b[39m# them with the order (a, b, c) defined in _arrangetriplet\u001b[39;00m\n\u001b[1;32m    173\u001b[0m all_asterism_triang \u001b[39m=\u001b[39m [\n\u001b[0;32m--> 174\u001b[0m     arrange(vertex_indices\u001b[39m=\u001b[39;49m\u001b[39mlist\u001b[39;49m(cmb)) \u001b[39mfor\u001b[39;00m cmb \u001b[39min\u001b[39;00m combinations(indx, \u001b[39m3\u001b[39m)\n\u001b[1;32m    175\u001b[0m ]\n\u001b[1;32m    176\u001b[0m triang_vrtx\u001b[39m.\u001b[39mextend(all_asterism_triang)\n\u001b[1;32m    178\u001b[0m inv\u001b[39m.\u001b[39mextend(\n\u001b[1;32m    179\u001b[0m     [\n\u001b[1;32m    180\u001b[0m         _invariantfeatures(\u001b[39m*\u001b[39msources[triplet])\n\u001b[1;32m    181\u001b[0m         \u001b[39mfor\u001b[39;00m triplet \u001b[39min\u001b[39;00m all_asterism_triang\n\u001b[1;32m    182\u001b[0m     ]\n\u001b[1;32m    183\u001b[0m )\n",
      "File \u001b[0;32m~/opt/miniconda3/envs/kn/lib/python3.10/site-packages/astroalign.py:133\u001b[0m, in \u001b[0;36m_arrangetriplet\u001b[0;34m(sources, vertex_indices)\u001b[0m\n\u001b[1;32m    126\u001b[0m \u001b[39m\"\"\"Return vertex_indices ordered in an (a, b, c) form where:\u001b[39;00m\n\u001b[1;32m    127\u001b[0m \u001b[39m  a is the vertex defined by L1 & L2\u001b[39;00m\n\u001b[1;32m    128\u001b[0m \u001b[39m  b is the vertex defined by L2 & L3\u001b[39;00m\n\u001b[1;32m    129\u001b[0m \u001b[39m  c is the vertex defined by L3 & L1\u001b[39;00m\n\u001b[1;32m    130\u001b[0m \u001b[39mand L1 < L2 < L3 are the sides of the triangle\u001b[39;00m\n\u001b[1;32m    131\u001b[0m \u001b[39mdefined by vertex_indices.\"\"\"\u001b[39;00m\n\u001b[1;32m    132\u001b[0m ind1, ind2, ind3 \u001b[39m=\u001b[39m vertex_indices\n\u001b[0;32m--> 133\u001b[0m x1, x2, x3 \u001b[39m=\u001b[39m sources[vertex_indices]\n\u001b[1;32m    135\u001b[0m side_ind \u001b[39m=\u001b[39m _np\u001b[39m.\u001b[39marray([(ind1, ind2), (ind2, ind3), (ind3, ind1)])\n\u001b[1;32m    136\u001b[0m side_lengths \u001b[39m=\u001b[39m \u001b[39mlist\u001b[39m(\u001b[39mmap\u001b[39m(_np\u001b[39m.\u001b[39mlinalg\u001b[39m.\u001b[39mnorm, (x1 \u001b[39m-\u001b[39m x2, x2 \u001b[39m-\u001b[39m x3, x3 \u001b[39m-\u001b[39m x1)))\n",
      "\u001b[0;31mIndexError\u001b[0m: index 3 is out of bounds for axis 0 with size 3"
     ]
    }
   ],
   "source": [
    "import astroalign as aa\n",
    "registered_image, footprint = aa.register(source, target, max_control_points=3, detection_sigma=1)"
   ]
  }
 ],
 "metadata": {
  "kernelspec": {
   "display_name": "Python 3.10.6 ('kn')",
   "language": "python",
   "name": "python3"
  },
  "language_info": {
   "codemirror_mode": {
    "name": "ipython",
    "version": 3
   },
   "file_extension": ".py",
   "mimetype": "text/x-python",
   "name": "python",
   "nbconvert_exporter": "python",
   "pygments_lexer": "ipython3",
   "version": "3.10.6"
  },
  "orig_nbformat": 4,
  "vscode": {
   "interpreter": {
    "hash": "0fa65c9a91e45692839231d985ed151f2fe21fa37e863d955851b77a1cee7351"
   }
  }
 },
 "nbformat": 4,
 "nbformat_minor": 2
}
