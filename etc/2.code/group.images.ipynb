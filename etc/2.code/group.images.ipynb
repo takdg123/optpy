{
 "cells": [
  {
   "cell_type": "code",
   "execution_count": 1,
   "metadata": {},
   "outputs": [],
   "source": [
    "import glob, os\n",
    "from astropy.io import ascii\n",
    "from astropy.io import fits\n",
    "import matplotlib.pyplot as plt\n",
    "import numpy as np\n",
    "from astropy.table import Table, vstack\n",
    "import matplotlib as mpl\n",
    "from astropy import units as u\n",
    "import time"
   ]
  },
  {
   "cell_type": "code",
   "execution_count": 2,
   "metadata": {},
   "outputs": [],
   "source": [
    "import matplotlib as mpl\n",
    "from IPython.core.interactiveshell import InteractiveShell\n",
    "InteractiveShell.ast_node_interactivity = \"last_expr\"\n",
    "\n",
    "mpl.rcParams[\"axes.titlesize\"] = 14\n",
    "mpl.rcParams[\"axes.labelsize\"] = 20\n",
    "plt.rcParams['savefig.dpi'] = 200\n",
    "plt.rc('font', family='serif')"
   ]
  },
  {
   "cell_type": "code",
   "execution_count": 3,
   "metadata": {},
   "outputs": [
    {
     "name": "stdout",
     "output_type": "stream",
     "text": [
      "n=28\n"
     ]
    },
    {
     "data": {
      "text/plain": [
       "['../boao/221022/Calib-BOAO-GRB221009A-20221022-092004-Ks-60.fits',\n",
       " '../boao/221022/Calib-BOAO-GRB221009A-20221022-092122-Ks-60.fits',\n",
       " '../boao/221022/Calib-BOAO-GRB221009A-20221022-092238-Ks-60.fits']"
      ]
     },
     "execution_count": 3,
     "metadata": {},
     "output_type": "execute_result"
    }
   ],
   "source": [
    "imlist = sorted(glob.glob('../boao/221022/C*0.fits'))\n",
    "print(f\"n={len(imlist)}\")\n",
    "imlist[:3]"
   ]
  },
  {
   "cell_type": "code",
   "execution_count": 4,
   "metadata": {},
   "outputs": [
    {
     "name": "stdout",
     "output_type": "stream",
     "text": [
      "xmosaic @img.0.list\n",
      "xmosaic @img.1.list\n",
      "xmosaic @img.2.list\n",
      "xmosaic @img.3.list\n",
      "xmosaic @img.4.list\n",
      "xmosaic @img.5.list\n",
      "xmosaic @img.6.list\n"
     ]
    }
   ],
   "source": [
    "path = os.path.dirname(imlist[0])\n",
    "\n",
    "step = 4\n",
    "for ii in range(int(len(imlist)/step)):\n",
    "\tfname = f\"{path}/img.{ii}.list\"\n",
    "\tf = open(fname, 'w')\n",
    "\tfor inim in imlist[ii*step:(ii+1)*step]:\n",
    "\t\tf.write(f\"{os.path.basename(inim)}\\n\")\n",
    "\tf.close()\n",
    "\n",
    "\tcom = f\"\"\"xmosaic @{os.path.basename(fname)}\"\"\"\n",
    "\tprint(com)\n"
   ]
  },
  {
   "cell_type": "code",
   "execution_count": 35,
   "metadata": {},
   "outputs": [],
   "source": [
    "# path = os.path.dirname(imlist[0])\n",
    "\n",
    "# # nn = 0\n",
    "# for nn in range(len(grplst)):\n",
    "# \t#\tGroup\n",
    "# \tgrp = grplst[nn]\n",
    "# \t#\tTarget\n",
    "# \ttim = imlist[nn]\n",
    "# \t#\tWrite the file\n",
    "# \tprint(f'[{nn}] {len(grp)} images for {os.path.basename(inim)}')\n",
    "# \tf = open(f\"{path}/{os.path.basename(tim).replace('fits', 'list')}\", 'w')\n",
    "# \tfor inim in grp:\n",
    "# \t\tf.write(f\"{os.path.basename(inim)}\\n\")\n",
    "# \tf.close()"
   ]
  },
  {
   "cell_type": "code",
   "execution_count": 36,
   "metadata": {},
   "outputs": [
    {
     "data": {
      "text/plain": [
       "'xmosaic @Calib-BOAO-GRB221009A-20221022-092355-Ks-60.list referenc=Calib-BOAO-GRB221009A-20221022-092355-Ks-60.fits'"
      ]
     },
     "execution_count": 36,
     "metadata": {},
     "output_type": "execute_result"
    }
   ],
   "source": [
    "com = \"\"\"xmosaic @Calib-BOAO-GRB221009A-20221022-092355-Ks-60.list referenc=Calib-BOAO-GRB221009A-20221022-092355-Ks-60.fits\"\"\"\n",
    "com"
   ]
  },
  {
   "cell_type": "code",
   "execution_count": null,
   "metadata": {},
   "outputs": [],
   "source": []
  }
 ],
 "metadata": {
  "kernelspec": {
   "display_name": "Python 3.10.6 ('kn')",
   "language": "python",
   "name": "python3"
  },
  "language_info": {
   "codemirror_mode": {
    "name": "ipython",
    "version": 3
   },
   "file_extension": ".py",
   "mimetype": "text/x-python",
   "name": "python",
   "nbconvert_exporter": "python",
   "pygments_lexer": "ipython3",
   "version": "3.10.6"
  },
  "orig_nbformat": 4,
  "vscode": {
   "interpreter": {
    "hash": "0fa65c9a91e45692839231d985ed151f2fe21fa37e863d955851b77a1cee7351"
   }
  }
 },
 "nbformat": 4,
 "nbformat_minor": 2
}
