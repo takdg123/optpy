{
 "cells": [
  {
   "cell_type": "code",
   "execution_count": 1,
   "metadata": {},
   "outputs": [],
   "source": [
    "import glob, os\n",
    "from astropy.io import ascii\n",
    "from astropy.io import fits\n",
    "import matplotlib.pyplot as plt\n",
    "import numpy as np\n",
    "from astropy.table import Table, vstack\n",
    "import matplotlib as mpl\n",
    "from astropy import units as u\n",
    "import time"
   ]
  },
  {
   "cell_type": "code",
   "execution_count": 2,
   "metadata": {},
   "outputs": [],
   "source": [
    "import matplotlib as mpl\n",
    "from IPython.core.interactiveshell import InteractiveShell\n",
    "InteractiveShell.ast_node_interactivity = \"last_expr\"\n",
    "\n",
    "mpl.rcParams[\"axes.titlesize\"] = 14\n",
    "mpl.rcParams[\"axes.labelsize\"] = 20\n",
    "plt.rcParams['savefig.dpi'] = 200\n",
    "plt.rc('font', family='serif')"
   ]
  },
  {
   "cell_type": "code",
   "execution_count": 3,
   "metadata": {},
   "outputs": [],
   "source": [
    "obs = 'BOAO'\n",
    "date = '20221018'\n",
    "# date = '20221019'\n",
    "# folder = 'GRB221009A_1018'\n",
    "# folder = 'GRB221009A_1019'"
   ]
  },
  {
   "cell_type": "code",
   "execution_count": 4,
   "metadata": {},
   "outputs": [
    {
     "name": "stdout",
     "output_type": "stream",
     "text": [
      "42 Object images\n",
      "42 Mask images\n",
      "42 Bkg images\n"
     ]
    }
   ],
   "source": [
    "objimlist = sorted(glob.glob(f'../5.result/Calib*{date}*0.fits'))\n",
    "mobjimlist = sorted(glob.glob(f'../5.result/Calib*{date}*mask.fits'))\n",
    "bkgimlist = sorted(glob.glob(f'../5.result/Calib*{date}*bkg.fits'))\n",
    "print(f\"{len(objimlist)} Object images\")\n",
    "print(f\"{len(mobjimlist)} Mask images\")\n",
    "print(f\"{len(mobjimlist)} Bkg images\")"
   ]
  }
 ],
 "metadata": {
  "kernelspec": {
   "display_name": "Python 3.10.6 ('kn')",
   "language": "python",
   "name": "python3"
  },
  "language_info": {
   "codemirror_mode": {
    "name": "ipython",
    "version": 3
   },
   "file_extension": ".py",
   "mimetype": "text/x-python",
   "name": "python",
   "nbconvert_exporter": "python",
   "pygments_lexer": "ipython3",
   "version": "3.10.6"
  },
  "orig_nbformat": 4,
  "vscode": {
   "interpreter": {
    "hash": "0fa65c9a91e45692839231d985ed151f2fe21fa37e863d955851b77a1cee7351"
   }
  }
 },
 "nbformat": 4,
 "nbformat_minor": 2
}
